{
 "cells": [
  {
   "cell_type": "code",
   "execution_count": 61,
   "id": "1933d0a3-e4f4-4938-b0e9-1463002c7a44",
   "metadata": {},
   "outputs": [],
   "source": [
    "import numpy as np\n",
    "import pandas as pd\n",
    "import matplotlib.pyplot as plt \n",
    "import xarray as xr\n",
    "import glob\n",
    "import os\n",
    "from datetime import datetime\n",
    "import gsw\n",
    "from preprocess_df_stored import process_df"
   ]
  },
  {
   "cell_type": "code",
   "execution_count": 2,
   "id": "b2c7f8fa-2991-4018-8149-04625f520baa",
   "metadata": {},
   "outputs": [],
   "source": [
    "#Code modified from: https://stackoverflow.com/questions/53189427/how-to-open-multiple-csv-files-from-a-folder-in-python\n",
    "# the path to your csv file directory\n",
    "mycsvdir = '/shared/marn5895/data/HungJosiahProject/'\n",
    "\n",
    "# get all the csv files in that directory (assuming they have the extension .csv)\n",
    "csvfiles = glob.glob(os.path.join(mycsvdir, '*.csv'))\n",
    "\n",
    "# loop through the files and read them in with pandas\n",
    "dataframes = []  # a list to hold all the individual pandas DataFrames\n",
    "for csvfile in csvfiles:\n",
    "    df = pd.read_csv(csvfile)\n",
    "    dataframes.append(df)\n",
    "\n",
    "# concatenate them all together\n",
    "df = pd.concat(dataframes, ignore_index=True)"
   ]
  },
  {
   "cell_type": "code",
   "execution_count": 56,
   "id": "65da0f0c-975b-44ef-8e15-aefd2505832c",
   "metadata": {},
   "outputs": [
    {
     "data": {
      "text/html": [
       "<div>\n",
       "<style scoped>\n",
       "    .dataframe tbody tr th:only-of-type {\n",
       "        vertical-align: middle;\n",
       "    }\n",
       "\n",
       "    .dataframe tbody tr th {\n",
       "        vertical-align: top;\n",
       "    }\n",
       "\n",
       "    .dataframe thead th {\n",
       "        text-align: right;\n",
       "    }\n",
       "</style>\n",
       "<table border=\"1\" class=\"dataframe\">\n",
       "  <thead>\n",
       "    <tr style=\"text-align: right;\">\n",
       "      <th></th>\n",
       "      <th>lat</th>\n",
       "      <th>lon</th>\n",
       "      <th>time</th>\n",
       "      <th>Temperature</th>\n",
       "      <th>Salinity</th>\n",
       "      <th>z</th>\n",
       "    </tr>\n",
       "  </thead>\n",
       "  <tbody>\n",
       "    <tr>\n",
       "      <th>0</th>\n",
       "      <td>32.1833</td>\n",
       "      <td>-78.6000</td>\n",
       "      <td>1969-01-07 21:00:00.000000</td>\n",
       "      <td>[19.444 16.667 16.111 13.444 11.944 10.     9....</td>\n",
       "      <td>[   36.679 -9999.       36.679 -9999.    -9999...</td>\n",
       "      <td>[  0.   48.8  61.   79.2  91.4 109.7 121.9 140...</td>\n",
       "    </tr>\n",
       "    <tr>\n",
       "      <th>1</th>\n",
       "      <td>30.4500</td>\n",
       "      <td>-71.3333</td>\n",
       "      <td>1969-01-15 01:00:00.000107</td>\n",
       "      <td>[22.222 21.111 20.111 19.889 19.444 19.222 19....</td>\n",
       "      <td>[   34.9    32.4    31.5 -9999.  -9999.  -9999...</td>\n",
       "      <td>[  0.  121.9 137.2 152.4 167.6 198.1 213.4 259...</td>\n",
       "    </tr>\n",
       "    <tr>\n",
       "      <th>2</th>\n",
       "      <td>30.1000</td>\n",
       "      <td>-74.3833</td>\n",
       "      <td>1969-01-17 06:59:59.999142</td>\n",
       "      <td>[20.389 20.389 20.111 20.111 20.556 20.722 19....</td>\n",
       "      <td>[-9999]</td>\n",
       "      <td>[  0.    6.1  15.2 137.2 143.3 149.4 228.6 231...</td>\n",
       "    </tr>\n",
       "    <tr>\n",
       "      <th>3</th>\n",
       "      <td>30.7333</td>\n",
       "      <td>-71.1667</td>\n",
       "      <td>1969-01-20 08:00:00.000858</td>\n",
       "      <td>[20.444 20.444 19.389 18.889 18.556 18.333 18....</td>\n",
       "      <td>[   36.369 -9999.    -9999.    -9999.    -9999...</td>\n",
       "      <td>[  0.  121.9 152.4 182.9 213.4 243.8 274.3 304...</td>\n",
       "    </tr>\n",
       "    <tr>\n",
       "      <th>4</th>\n",
       "      <td>33.3667</td>\n",
       "      <td>-73.7833</td>\n",
       "      <td>1969-01-31 01:00:00.000107</td>\n",
       "      <td>[19.722 19.722 19.722 19.722 19.444 18.833 18....</td>\n",
       "      <td>[   36.5 -9999.  -9999.  -9999.  -9999.  -9999...</td>\n",
       "      <td>[  0.   30.5  61.  121.9 137.2 182.9 213.4 243...</td>\n",
       "    </tr>\n",
       "  </tbody>\n",
       "</table>\n",
       "</div>"
      ],
      "text/plain": [
       "       lat      lon                        time  \\\n",
       "0  32.1833 -78.6000  1969-01-07 21:00:00.000000   \n",
       "1  30.4500 -71.3333  1969-01-15 01:00:00.000107   \n",
       "2  30.1000 -74.3833  1969-01-17 06:59:59.999142   \n",
       "3  30.7333 -71.1667  1969-01-20 08:00:00.000858   \n",
       "4  33.3667 -73.7833  1969-01-31 01:00:00.000107   \n",
       "\n",
       "                                         Temperature  \\\n",
       "0  [19.444 16.667 16.111 13.444 11.944 10.     9....   \n",
       "1  [22.222 21.111 20.111 19.889 19.444 19.222 19....   \n",
       "2  [20.389 20.389 20.111 20.111 20.556 20.722 19....   \n",
       "3  [20.444 20.444 19.389 18.889 18.556 18.333 18....   \n",
       "4  [19.722 19.722 19.722 19.722 19.444 18.833 18....   \n",
       "\n",
       "                                            Salinity  \\\n",
       "0  [   36.679 -9999.       36.679 -9999.    -9999...   \n",
       "1  [   34.9    32.4    31.5 -9999.  -9999.  -9999...   \n",
       "2                                            [-9999]   \n",
       "3  [   36.369 -9999.    -9999.    -9999.    -9999...   \n",
       "4  [   36.5 -9999.  -9999.  -9999.  -9999.  -9999...   \n",
       "\n",
       "                                                   z  \n",
       "0  [  0.   48.8  61.   79.2  91.4 109.7 121.9 140...  \n",
       "1  [  0.  121.9 137.2 152.4 167.6 198.1 213.4 259...  \n",
       "2  [  0.    6.1  15.2 137.2 143.3 149.4 228.6 231...  \n",
       "3  [  0.  121.9 152.4 182.9 213.4 243.8 274.3 304...  \n",
       "4  [  0.   30.5  61.  121.9 137.2 182.9 213.4 243...  "
      ]
     },
     "execution_count": 56,
     "metadata": {},
     "output_type": "execute_result"
    }
   ],
   "source": [
    "ds = pd.read_csv('/shared/marn5895/data/HungJosiahProject/WOD_NWA_1969_ctd.csv')\n",
    "ds.head()"
   ]
  },
  {
   "cell_type": "code",
   "execution_count": 59,
   "id": "c862c629-45fb-499b-92b4-3926fe39cb3c",
   "metadata": {},
   "outputs": [
    {
     "name": "stdout",
     "output_type": "stream",
     "text": [
      "Temperature\n",
      "Salinity\n",
      "z\n"
     ]
    },
    {
     "data": {
      "text/html": [
       "<div>\n",
       "<style scoped>\n",
       "    .dataframe tbody tr th:only-of-type {\n",
       "        vertical-align: middle;\n",
       "    }\n",
       "\n",
       "    .dataframe tbody tr th {\n",
       "        vertical-align: top;\n",
       "    }\n",
       "\n",
       "    .dataframe thead th {\n",
       "        text-align: right;\n",
       "    }\n",
       "</style>\n",
       "<table border=\"1\" class=\"dataframe\">\n",
       "  <thead>\n",
       "    <tr style=\"text-align: right;\">\n",
       "      <th></th>\n",
       "      <th>lat</th>\n",
       "      <th>lon</th>\n",
       "      <th>time</th>\n",
       "      <th>Temperature</th>\n",
       "      <th>Salinity</th>\n",
       "      <th>z</th>\n",
       "    </tr>\n",
       "  </thead>\n",
       "  <tbody>\n",
       "    <tr>\n",
       "      <th>0</th>\n",
       "      <td>32.1833</td>\n",
       "      <td>-78.6000</td>\n",
       "      <td>1969-01-07 21:00:00</td>\n",
       "      <td>[19.444, 16.667, 16.111, 13.444, 11.944, 10.0,...</td>\n",
       "      <td>[36.679, -9999.0, 36.679, -9999.0, -9999.0, -9...</td>\n",
       "      <td>[0.0, 48.8, 61.0, 79.2, 91.4, 109.7, 121.9, 14...</td>\n",
       "    </tr>\n",
       "    <tr>\n",
       "      <th>1</th>\n",
       "      <td>30.4500</td>\n",
       "      <td>-71.3333</td>\n",
       "      <td>1969-01-15 01:00:00</td>\n",
       "      <td>[22.222, 21.111, 20.111, 19.889, 19.444, 19.22...</td>\n",
       "      <td>[34.9, 32.4, 31.5, -9999.0, -9999.0, -9999.0, ...</td>\n",
       "      <td>[0.0, 121.9, 137.2, 152.4, 167.6, 198.1, 213.4...</td>\n",
       "    </tr>\n",
       "    <tr>\n",
       "      <th>2</th>\n",
       "      <td>30.1000</td>\n",
       "      <td>-74.3833</td>\n",
       "      <td>1969-01-17 06:59:59</td>\n",
       "      <td>[20.389, 20.389, 20.111, 20.111, 20.556, 20.72...</td>\n",
       "      <td>[-9999]</td>\n",
       "      <td>[0.0, 6.1, 15.2, 137.2, 143.3, 149.4, 228.6, 2...</td>\n",
       "    </tr>\n",
       "    <tr>\n",
       "      <th>3</th>\n",
       "      <td>30.7333</td>\n",
       "      <td>-71.1667</td>\n",
       "      <td>1969-01-20 08:00:00</td>\n",
       "      <td>[20.444, 20.444, 19.389, 18.889, 18.556, 18.33...</td>\n",
       "      <td>[36.369, -9999.0, -9999.0, -9999.0, -9999.0, -...</td>\n",
       "      <td>[0.0, 121.9, 152.4, 182.9, 213.4, 243.8, 274.3...</td>\n",
       "    </tr>\n",
       "    <tr>\n",
       "      <th>4</th>\n",
       "      <td>33.3667</td>\n",
       "      <td>-73.7833</td>\n",
       "      <td>1969-01-31 01:00:00</td>\n",
       "      <td>[19.722, 19.722, 19.722, 19.722, 19.444, 18.83...</td>\n",
       "      <td>[36.5, -9999.0, -9999.0, -9999.0, -9999.0, -99...</td>\n",
       "      <td>[0.0, 30.5, 61.0, 121.9, 137.2, 182.9, 213.4, ...</td>\n",
       "    </tr>\n",
       "  </tbody>\n",
       "</table>\n",
       "</div>"
      ],
      "text/plain": [
       "       lat      lon                time  \\\n",
       "0  32.1833 -78.6000 1969-01-07 21:00:00   \n",
       "1  30.4500 -71.3333 1969-01-15 01:00:00   \n",
       "2  30.1000 -74.3833 1969-01-17 06:59:59   \n",
       "3  30.7333 -71.1667 1969-01-20 08:00:00   \n",
       "4  33.3667 -73.7833 1969-01-31 01:00:00   \n",
       "\n",
       "                                         Temperature  \\\n",
       "0  [19.444, 16.667, 16.111, 13.444, 11.944, 10.0,...   \n",
       "1  [22.222, 21.111, 20.111, 19.889, 19.444, 19.22...   \n",
       "2  [20.389, 20.389, 20.111, 20.111, 20.556, 20.72...   \n",
       "3  [20.444, 20.444, 19.389, 18.889, 18.556, 18.33...   \n",
       "4  [19.722, 19.722, 19.722, 19.722, 19.444, 18.83...   \n",
       "\n",
       "                                            Salinity  \\\n",
       "0  [36.679, -9999.0, 36.679, -9999.0, -9999.0, -9...   \n",
       "1  [34.9, 32.4, 31.5, -9999.0, -9999.0, -9999.0, ...   \n",
       "2                                            [-9999]   \n",
       "3  [36.369, -9999.0, -9999.0, -9999.0, -9999.0, -...   \n",
       "4  [36.5, -9999.0, -9999.0, -9999.0, -9999.0, -99...   \n",
       "\n",
       "                                                   z  \n",
       "0  [0.0, 48.8, 61.0, 79.2, 91.4, 109.7, 121.9, 14...  \n",
       "1  [0.0, 121.9, 137.2, 152.4, 167.6, 198.1, 213.4...  \n",
       "2  [0.0, 6.1, 15.2, 137.2, 143.3, 149.4, 228.6, 2...  \n",
       "3  [0.0, 121.9, 152.4, 182.9, 213.4, 243.8, 274.3...  \n",
       "4  [0.0, 30.5, 61.0, 121.9, 137.2, 182.9, 213.4, ...  "
      ]
     },
     "execution_count": 59,
     "metadata": {},
     "output_type": "execute_result"
    }
   ],
   "source": [
    "ds = pd.read_csv('/shared/marn5895/data/HungJosiahProject/WOD_NWA_1969_ctd.csv')\n",
    "ds = process_df(ds)\n",
    "ds.head()"
   ]
  },
  {
   "cell_type": "code",
   "execution_count": 53,
   "id": "ec3b01da-ce72-46b7-9471-c8347ca85d3e",
   "metadata": {},
   "outputs": [
    {
     "name": "stdout",
     "output_type": "stream",
     "text": [
      "[   36.679 -9999.       36.679 -9999.    -9999.    -9999.    -9999.\n",
      " -9999.    -9999.    -9999.    -9999.    -9999.    -9999.   ]\n",
      "[,36.679,-9999.,36.679,-9999.,-9999.,-9999.,-9999.,-9999.,-9999.,-9999.,-9999.,-9999.,-9999.,]\n",
      "[36.679,-9999.,36.679,-9999.,-9999.,-9999.,-9999.,-9999.,-9999.,-9999.,-9999.,-9999.,-9999.,]\n"
     ]
    }
   ],
   "source": [
    "var = 'Salinity'\n",
    "print(ds[var][0])\n",
    "array_string = ','.join(ds[var][0].replace('[ ', '[').split())\n",
    "print(array_string)\n",
    "\n",
    "array_string = list(array_string)\n",
    "array_string[1] = ''\n",
    "array_string\n",
    "array_string = ''.join(array_string)\n",
    "\n",
    "print(array_string)"
   ]
  },
  {
   "cell_type": "code",
   "execution_count": 54,
   "id": "7f353ae1-c710-43a2-8a26-feb28b786c65",
   "metadata": {},
   "outputs": [
    {
     "data": {
      "text/plain": [
       "','"
      ]
     },
     "execution_count": 54,
     "metadata": {},
     "output_type": "execute_result"
    }
   ],
   "source": [
    "array_string[-2]"
   ]
  },
  {
   "cell_type": "code",
   "execution_count": 14,
   "id": "1501fdb9-e0a3-4e66-a449-e1f1debe12f7",
   "metadata": {},
   "outputs": [],
   "source": [
    "#Transfer the string time to datetime value. \n",
    "#The split in x.split('.')[0] is to account for the decimals behind the number of seconds ('1969-01-07 21:00:00.000000')\n",
    "df['time'] = list(map(lambda x: datetime.strptime(x.split('.')[0], '%Y-%m-%d %H:%M:%S'),\n",
    "                      df['time']))"
   ]
  },
  {
   "cell_type": "code",
   "execution_count": 22,
   "id": "376a729e-3ccd-4575-93cb-a927a7387b52",
   "metadata": {},
   "outputs": [
    {
     "data": {
      "text/plain": [
       "'[19.444 16.667 16.111 13.444 11.944 10.     9.722  8.611  8.333  8.611\\n  7.889  7.778  7.778]'"
      ]
     },
     "execution_count": 22,
     "metadata": {},
     "output_type": "execute_result"
    }
   ],
   "source": [
    "df['Temperature'][0]"
   ]
  },
  {
   "cell_type": "code",
   "execution_count": null,
   "id": "d15d7a98-47ca-42e4-bcb6-be83bdb77554",
   "metadata": {},
   "outputs": [],
   "source": [
    "def estimate_buoyancy_frequency(df):\n",
    "    \"\"\"\n",
    "    Documentation: https://teos-10.github.io/GSW-Python/gsw_flat.html\n",
    "    \"\"\"\n",
    "    i = 0\n",
    "    CT_array = gsw.CT_from_t(SA=df['Salinity'][i], t=df['Temperature'][i], p)\n",
    "    N_squared_value = gsw.Nsquared(SA=df['Salinity'][i], CT=CT_array, p, lat=df['lat'][i], axis=0)"
   ]
  },
  {
   "cell_type": "code",
   "execution_count": 20,
   "id": "c4fb73f4-ea9f-4f19-9276-6390f71b182e",
   "metadata": {},
   "outputs": [
    {
     "ename": "ValueError",
     "evalue": "could not convert string to float: '[  0.   48.8  61.   79.2  91.4 109.7 121.9 140.2 152.4 170.7 182.9 213.4\\n 243.8]'",
     "output_type": "error",
     "traceback": [
      "\u001b[0;31m---------------------------------------------------------------------------\u001b[0m",
      "\u001b[0;31mValueError\u001b[0m                                Traceback (most recent call last)",
      "\u001b[0;32m/tmp/ipykernel_161285/1676201987.py\u001b[0m in \u001b[0;36m<module>\u001b[0;34m\u001b[0m\n\u001b[1;32m      1\u001b[0m \u001b[0mi\u001b[0m \u001b[0;34m=\u001b[0m \u001b[0;36m0\u001b[0m\u001b[0;34m\u001b[0m\u001b[0;34m\u001b[0m\u001b[0m\n\u001b[0;32m----> 2\u001b[0;31m \u001b[0mgsw\u001b[0m\u001b[0;34m.\u001b[0m\u001b[0mp_from_z\u001b[0m\u001b[0;34m(\u001b[0m\u001b[0mz\u001b[0m\u001b[0;34m=\u001b[0m\u001b[0mdf\u001b[0m\u001b[0;34m[\u001b[0m\u001b[0;34m'z'\u001b[0m\u001b[0;34m]\u001b[0m\u001b[0;34m[\u001b[0m\u001b[0mi\u001b[0m\u001b[0;34m]\u001b[0m\u001b[0;34m,\u001b[0m \u001b[0mlat\u001b[0m\u001b[0;34m=\u001b[0m\u001b[0mdf\u001b[0m\u001b[0;34m[\u001b[0m\u001b[0;34m'lat'\u001b[0m\u001b[0;34m]\u001b[0m\u001b[0;34m[\u001b[0m\u001b[0mi\u001b[0m\u001b[0;34m]\u001b[0m\u001b[0;34m)\u001b[0m\u001b[0;34m\u001b[0m\u001b[0;34m\u001b[0m\u001b[0m\n\u001b[0m",
      "\u001b[0;32m~/miniconda/envs/marn5895/lib/python3.9/site-packages/gsw/_fixed_wrapped_ufuncs.py\u001b[0m in \u001b[0;36mp_from_z\u001b[0;34m(z, lat, geo_strf_dyn_height, sea_surface_geopotential)\u001b[0m\n\u001b[1;32m      8\u001b[0m \u001b[0m_p_from_z\u001b[0m \u001b[0;34m=\u001b[0m \u001b[0mp_from_z\u001b[0m\u001b[0;34m\u001b[0m\u001b[0;34m\u001b[0m\u001b[0m\n\u001b[1;32m      9\u001b[0m \u001b[0;32mdef\u001b[0m \u001b[0mp_from_z\u001b[0m\u001b[0;34m(\u001b[0m\u001b[0mz\u001b[0m\u001b[0;34m,\u001b[0m \u001b[0mlat\u001b[0m\u001b[0;34m,\u001b[0m \u001b[0mgeo_strf_dyn_height\u001b[0m\u001b[0;34m=\u001b[0m\u001b[0;36m0\u001b[0m\u001b[0;34m,\u001b[0m \u001b[0msea_surface_geopotential\u001b[0m\u001b[0;34m=\u001b[0m\u001b[0;36m0\u001b[0m\u001b[0;34m)\u001b[0m\u001b[0;34m:\u001b[0m\u001b[0;34m\u001b[0m\u001b[0;34m\u001b[0m\u001b[0m\n\u001b[0;32m---> 10\u001b[0;31m     \u001b[0;32mreturn\u001b[0m \u001b[0m_p_from_z\u001b[0m\u001b[0;34m(\u001b[0m\u001b[0mz\u001b[0m\u001b[0;34m,\u001b[0m \u001b[0mlat\u001b[0m\u001b[0;34m,\u001b[0m \u001b[0mgeo_strf_dyn_height\u001b[0m\u001b[0;34m,\u001b[0m \u001b[0msea_surface_geopotential\u001b[0m\u001b[0;34m)\u001b[0m\u001b[0;34m\u001b[0m\u001b[0;34m\u001b[0m\u001b[0m\n\u001b[0m\u001b[1;32m     11\u001b[0m \u001b[0mp_from_z\u001b[0m\u001b[0;34m.\u001b[0m\u001b[0m__doc__\u001b[0m \u001b[0;34m=\u001b[0m \u001b[0m_p_from_z\u001b[0m\u001b[0;34m.\u001b[0m\u001b[0m__doc__\u001b[0m\u001b[0;34m\u001b[0m\u001b[0;34m\u001b[0m\u001b[0m\n\u001b[1;32m     12\u001b[0m \u001b[0;34m\u001b[0m\u001b[0m\n",
      "\u001b[0;32m~/miniconda/envs/marn5895/lib/python3.9/site-packages/gsw/_utilities.py\u001b[0m in \u001b[0;36mwrapper\u001b[0;34m(*args, **kw)\u001b[0m\n\u001b[1;32m     55\u001b[0m                 \u001b[0mnewargs\u001b[0m\u001b[0;34m.\u001b[0m\u001b[0mappend\u001b[0m\u001b[0;34m(\u001b[0m\u001b[0marg\u001b[0m\u001b[0;34m)\u001b[0m\u001b[0;34m\u001b[0m\u001b[0;34m\u001b[0m\u001b[0m\n\u001b[1;32m     56\u001b[0m             \u001b[0;32melse\u001b[0m\u001b[0;34m:\u001b[0m\u001b[0;34m\u001b[0m\u001b[0;34m\u001b[0m\u001b[0m\n\u001b[0;32m---> 57\u001b[0;31m                 \u001b[0mnewargs\u001b[0m\u001b[0;34m.\u001b[0m\u001b[0mappend\u001b[0m\u001b[0;34m(\u001b[0m\u001b[0mnp\u001b[0m\u001b[0;34m.\u001b[0m\u001b[0masarray\u001b[0m\u001b[0;34m(\u001b[0m\u001b[0marg\u001b[0m\u001b[0;34m,\u001b[0m \u001b[0mdtype\u001b[0m\u001b[0;34m=\u001b[0m\u001b[0mfloat\u001b[0m\u001b[0;34m)\u001b[0m\u001b[0;34m)\u001b[0m\u001b[0;34m\u001b[0m\u001b[0;34m\u001b[0m\u001b[0m\n\u001b[0m\u001b[1;32m     58\u001b[0m \u001b[0;34m\u001b[0m\u001b[0m\n\u001b[1;32m     59\u001b[0m         \u001b[0;32mif\u001b[0m \u001b[0mp\u001b[0m \u001b[0;32mis\u001b[0m \u001b[0;32mnot\u001b[0m \u001b[0;32mNone\u001b[0m\u001b[0;34m:\u001b[0m\u001b[0;34m\u001b[0m\u001b[0;34m\u001b[0m\u001b[0m\n",
      "\u001b[0;31mValueError\u001b[0m: could not convert string to float: '[  0.   48.8  61.   79.2  91.4 109.7 121.9 140.2 152.4 170.7 182.9 213.4\\n 243.8]'"
     ]
    }
   ],
   "source": [
    "i = 0\n",
    "gsw.p_from_z(z=df['z'][i], lat=df['lat'][i])"
   ]
  },
  {
   "cell_type": "code",
   "execution_count": 24,
   "id": "05a6aa22-ad49-49fe-b7df-e1deee1f6395",
   "metadata": {},
   "outputs": [
    {
     "data": {
      "text/plain": [
       "['[',\n",
       " '',\n",
       " '0.',\n",
       " '',\n",
       " '',\n",
       " '48.8',\n",
       " '',\n",
       " '61.',\n",
       " '',\n",
       " '',\n",
       " '79.2',\n",
       " '',\n",
       " '91.4',\n",
       " '109.7',\n",
       " '121.9',\n",
       " '140.2',\n",
       " '152.4',\n",
       " '170.7',\n",
       " '182.9',\n",
       " '213.4\\n',\n",
       " '243.8]']"
      ]
     },
     "execution_count": 24,
     "metadata": {},
     "output_type": "execute_result"
    }
   ],
   "source": [
    "df['z'][i].split(' ')"
   ]
  },
  {
   "cell_type": "code",
   "execution_count": null,
   "id": "a4338b7d-e158-4a80-ac03-6add6146ab15",
   "metadata": {},
   "outputs": [],
   "source": []
  }
 ],
 "metadata": {
  "kernelspec": {
   "display_name": "Python 3 (ipykernel)",
   "language": "python",
   "name": "python3"
  },
  "language_info": {
   "codemirror_mode": {
    "name": "ipython",
    "version": 3
   },
   "file_extension": ".py",
   "mimetype": "text/x-python",
   "name": "python",
   "nbconvert_exporter": "python",
   "pygments_lexer": "ipython3",
   "version": "3.9.6"
  }
 },
 "nbformat": 4,
 "nbformat_minor": 5
}
