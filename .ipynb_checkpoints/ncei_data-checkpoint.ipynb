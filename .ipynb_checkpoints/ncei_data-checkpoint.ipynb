{
 "cells": [
  {
   "cell_type": "markdown",
   "id": "8411afad-752a-4d80-98e7-93d1e20eb623",
   "metadata": {},
   "source": [
    "# Learning to work w/ NCEI data"
   ]
  },
  {
   "cell_type": "code",
   "execution_count": 1,
   "id": "1a260327-2cf4-44a8-944c-3f7d00ade51c",
   "metadata": {},
   "outputs": [],
   "source": [
    "# in this notebook, i'm going to take some notes and basically learn to visualize date from the NCEI directory"
   ]
  },
  {
   "cell_type": "code",
   "execution_count": 2,
   "id": "888de5d2-d425-4a57-b32b-2dd77d3b337d",
   "metadata": {},
   "outputs": [],
   "source": [
    "# import all the tools we may need\n",
    "\n",
    "import numpy as np\n",
    "import xarray as xr\n",
    "import matplotlib.pyplot as plt"
   ]
  },
  {
   "cell_type": "code",
   "execution_count": 3,
   "id": "087bcdd7-930e-4e55-89c8-b7742c2f952c",
   "metadata": {},
   "outputs": [],
   "source": [
    "# some examples of how we brought in a .nc file and created an xarray w/ it\n",
    "\n",
    "#URL = 'http://smode.whoi.edu:8080/thredds/dodsC/satellite/AVHRR_METOPA/'\n",
    "#filename = 'AVHRR_METOPA_20211019T031000Z.nc'\n",
    "#data_path = URL + filename\n",
    "#sst_data = xr.open_dataset(data_path).isel(time=0)"
   ]
  },
  {
   "cell_type": "code",
   "execution_count": 4,
   "id": "fc61d3dd-8d12-44bc-9dd4-3c3aab1a06ca",
   "metadata": {},
   "outputs": [],
   "source": [
    "url = 'https://www.ncei.noaa.gov/data/oceans/ncei/wod/2021/'"
   ]
  },
  {
   "cell_type": "code",
   "execution_count": 7,
   "id": "0c582a67-7b81-44b4-b8eb-3114ed36d101",
   "metadata": {},
   "outputs": [],
   "source": [
    "file = 'wod_ctd_2021.nc'"
   ]
  },
  {
   "cell_type": "code",
   "execution_count": 10,
   "id": "72643f15-9b14-48ea-a2dd-643c17f58364",
   "metadata": {},
   "outputs": [],
   "source": [
    "data_path = url + file"
   ]
  },
  {
   "cell_type": "code",
   "execution_count": 11,
   "id": "95b763b4-bf2e-4fa1-921d-e94a3195e001",
   "metadata": {},
   "outputs": [
    {
     "data": {
      "text/plain": [
       "'https://www.ncei.noaa.gov/data/oceans/ncei/wod/2021/wod_ctd_2021.nc'"
      ]
     },
     "execution_count": 11,
     "metadata": {},
     "output_type": "execute_result"
    }
   ],
   "source": [
    "data_path"
   ]
  },
  {
   "cell_type": "code",
   "execution_count": 13,
   "id": "0ca0f1d4-f5c5-42c5-ae86-0971368d4aae",
   "metadata": {},
   "outputs": [],
   "source": [
    "#wod_apd2021 = xr.open_dataset(data_path).isel(time=0)\n",
    "\n",
    "# gettting an error saying the file is not found, will need to confer and find a solution"
   ]
  },
  {
   "cell_type": "code",
   "execution_count": null,
   "id": "8dc6183b-77e5-493a-8e77-1f25eb327c54",
   "metadata": {},
   "outputs": [],
   "source": []
  }
 ],
 "metadata": {
  "kernelspec": {
   "display_name": "Python 3 (ipykernel)",
   "language": "python",
   "name": "python3"
  },
  "language_info": {
   "codemirror_mode": {
    "name": "ipython",
    "version": 3
   },
   "file_extension": ".py",
   "mimetype": "text/x-python",
   "name": "python",
   "nbconvert_exporter": "python",
   "pygments_lexer": "ipython3",
   "version": "3.9.6"
  }
 },
 "nbformat": 4,
 "nbformat_minor": 5
}
