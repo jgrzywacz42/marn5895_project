{
 "cells": [
  {
   "cell_type": "markdown",
   "id": "8411afad-752a-4d80-98e7-93d1e20eb623",
   "metadata": {},
   "source": [
    "# Learning to work w/ NCEI data"
   ]
  },
  {
   "cell_type": "code",
   "execution_count": 1,
   "id": "1a260327-2cf4-44a8-944c-3f7d00ade51c",
   "metadata": {},
   "outputs": [],
   "source": [
    "# in this notebook, i'm going to take some notes and basically learn to visualize date from the NCEI directory"
   ]
  },
  {
   "cell_type": "code",
   "execution_count": 2,
   "id": "888de5d2-d425-4a57-b32b-2dd77d3b337d",
   "metadata": {},
   "outputs": [],
   "source": [
    "# import all the tools we may need\n",
    "\n",
    "import numpy as np\n",
    "import xarray as xr\n",
    "import matplotlib.pyplot as plt"
   ]
  },
  {
   "cell_type": "code",
   "execution_count": 3,
   "id": "087bcdd7-930e-4e55-89c8-b7742c2f952c",
   "metadata": {},
   "outputs": [],
   "source": [
    "# some examples of how we brought in a .nc file and created an xarray w/ it\n",
    "\n",
    "#URL = 'http://smode.whoi.edu:8080/thredds/dodsC/satellite/AVHRR_METOPA/'\n",
    "#filename = 'AVHRR_METOPA_20211019T031000Z.nc'\n",
    "#data_path = URL + filename\n",
    "#sst_data = xr.open_dataset(data_path).isel(time=0)"
   ]
  },
  {
   "cell_type": "code",
   "execution_count": 4,
   "id": "fc61d3dd-8d12-44bc-9dd4-3c3aab1a06ca",
   "metadata": {},
   "outputs": [],
   "source": [
    "url1 = 'https://www.ncei.noaa.gov/data/oceans/ncei/wod/2021/'"
   ]
  },
  {
   "cell_type": "code",
   "execution_count": 5,
   "id": "0c582a67-7b81-44b4-b8eb-3114ed36d101",
   "metadata": {},
   "outputs": [],
   "source": [
    "file1 = 'wod_ctd_2021.nc'"
   ]
  },
  {
   "cell_type": "code",
   "execution_count": 7,
   "id": "72643f15-9b14-48ea-a2dd-643c17f58364",
   "metadata": {},
   "outputs": [],
   "source": [
    "data_path1 = url1 + file1"
   ]
  },
  {
   "cell_type": "code",
   "execution_count": 8,
   "id": "95b763b4-bf2e-4fa1-921d-e94a3195e001",
   "metadata": {},
   "outputs": [
    {
     "data": {
      "text/plain": [
       "'https://www.ncei.noaa.gov/data/oceans/ncei/wod/2021/wod_ctd_2021.nc'"
      ]
     },
     "execution_count": 8,
     "metadata": {},
     "output_type": "execute_result"
    }
   ],
   "source": [
    "data_path1"
   ]
  },
  {
   "cell_type": "code",
   "execution_count": 10,
   "id": "0ca0f1d4-f5c5-42c5-ae86-0971368d4aae",
   "metadata": {},
   "outputs": [],
   "source": [
    "#wod_apd2021 = xr.open_dataset(data_path1).isel(time=0)\n",
    "\n",
    "# gettting an error saying the file is not found, will need to confer and find a solution"
   ]
  },
  {
   "cell_type": "code",
   "execution_count": 15,
   "id": "8dc6183b-77e5-493a-8e77-1f25eb327c54",
   "metadata": {},
   "outputs": [],
   "source": [
    "# we'll try with a different file\n",
    "\n",
    "url2 = 'https://www.ncei.noaa.gov/data/oceans/ncei/wod/2017/'\n",
    "\n",
    "file2 = 'wod_apb_2017.nc'"
   ]
  },
  {
   "cell_type": "code",
   "execution_count": 16,
   "id": "ce61894f-7517-4f73-9c94-dcd78fbffec8",
   "metadata": {},
   "outputs": [],
   "source": [
    "data_path2 = url2 +file2"
   ]
  },
  {
   "cell_type": "code",
   "execution_count": 17,
   "id": "c8691070-c673-431d-a2f2-3ac70b0067db",
   "metadata": {},
   "outputs": [
    {
     "data": {
      "text/plain": [
       "'https://www.ncei.noaa.gov/data/oceans/ncei/wod/2017/wod_apb_2017.nc'"
      ]
     },
     "execution_count": 17,
     "metadata": {},
     "output_type": "execute_result"
    }
   ],
   "source": [
    "data_path2"
   ]
  },
  {
   "cell_type": "code",
   "execution_count": 25,
   "id": "4081acc6-5fe6-4927-a8cd-fef6928efded",
   "metadata": {},
   "outputs": [
    {
     "ename": "AttributeError",
     "evalue": "module 'xarray' has no attribute 'scan_dataset'",
     "output_type": "error",
     "traceback": [
      "\u001b[0;31m---------------------------------------------------------------------------\u001b[0m",
      "\u001b[0;31mAttributeError\u001b[0m                            Traceback (most recent call last)",
      "\u001b[0;32m/tmp/ipykernel_193739/1637543489.py\u001b[0m in \u001b[0;36m<module>\u001b[0;34m\u001b[0m\n\u001b[0;32m----> 1\u001b[0;31m \u001b[0mwod_ctd2017\u001b[0m \u001b[0;34m=\u001b[0m \u001b[0mxr\u001b[0m\u001b[0;34m.\u001b[0m\u001b[0mscan_dataset\u001b[0m\u001b[0;34m(\u001b[0m\u001b[0mdata_path2\u001b[0m\u001b[0;34m)\u001b[0m\u001b[0;34m\u001b[0m\u001b[0;34m\u001b[0m\u001b[0m\n\u001b[0m\u001b[1;32m      2\u001b[0m \u001b[0;31m# still getting an error, need to check whats going on trying to access the netCDF files\u001b[0m\u001b[0;34m\u001b[0m\u001b[0;34m\u001b[0m\u001b[0;34m\u001b[0m\u001b[0m\n",
      "\u001b[0;31mAttributeError\u001b[0m: module 'xarray' has no attribute 'scan_dataset'"
     ]
    }
   ],
   "source": [
    "wod_ctd2017 = xr.scan_dataset(data_path2)\n",
    "# still getting an error, need to check whats going on trying to access the netCDF files"
   ]
  },
  {
   "cell_type": "code",
   "execution_count": null,
   "id": "ae5f6cf5-65c7-4d8e-bc3e-c6edf6a63da9",
   "metadata": {},
   "outputs": [],
   "source": []
  }
 ],
 "metadata": {
  "kernelspec": {
   "display_name": "Python 3 (ipykernel)",
   "language": "python",
   "name": "python3"
  },
  "language_info": {
   "codemirror_mode": {
    "name": "ipython",
    "version": 3
   },
   "file_extension": ".py",
   "mimetype": "text/x-python",
   "name": "python",
   "nbconvert_exporter": "python",
   "pygments_lexer": "ipython3",
   "version": "3.9.6"
  }
 },
 "nbformat": 4,
 "nbformat_minor": 5
}
